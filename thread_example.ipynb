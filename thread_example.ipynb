{
 "cells": [
  {
   "cell_type": "markdown",
   "id": "3a9e1fad",
   "metadata": {},
   "source": [
    "Exempel från https://www.pythontutorial.net/python-concurrency/python-threading/"
   ]
  },
  {
   "cell_type": "code",
   "execution_count": null,
   "id": "c1b2e438",
   "metadata": {},
   "outputs": [],
   "source": [
    "def isPrime(i):\n",
    "   provenNotPrime = False\n",
    "   for k in range(2,i):\n",
    "      if i % k == 0:\n",
    "         #print(f'{i}',end = ',')\n",
    "         provenNotPrime = True\n",
    "         break\n",
    "   return not(provenNotPrime)"
   ]
  },
  {
   "cell_type": "code",
   "execution_count": null,
   "id": "9c83d93c",
   "metadata": {},
   "outputs": [],
   "source": [
    "def searchForPrimes():\n",
    "    i = 100000000\n",
    "    while True:\n",
    "       #inre loop - prova om talet i är jämt delbart med något annat tal än '1' och 'i'\n",
    "       #isf är det ej ett primtal\n",
    "       i += 1 \n",
    "\n",
    "       #om vi lämnat den inre loopen utan att sätt provenNotPrime = True så har vi funnit ett primtal\n",
    "       if isPrime(i):\n",
    "          print(f'\\n*** {i} är ett Primtal! ***')\n",
    "\n",
    "    print('slut på program')\n"
   ]
  },
  {
   "cell_type": "code",
   "execution_count": null,
   "id": "81c66104",
   "metadata": {},
   "outputs": [],
   "source": [
    "import time\n",
    "import datetime\n",
    "import threading\n",
    "\n",
    "\n",
    "def task():\n",
    "    for i in range(10):\n",
    "        print(time.time())\n",
    "        time.sleep(1)\n",
    "\n",
    "        \n",
    "\n",
    "\n",
    "# create two new threads\n",
    "t1 = threading.Thread(target=task)\n",
    "t2 = threading.Thread(target=searchForPrimes)\n",
    "\n",
    "# start the threads\n",
    "t1.start()\n",
    "t2.start()\n",
    "\n",
    "# wait for the threads to complete\n",
    "t1.join()\n",
    "t2.join()\n",
    "\n",
    "\n",
    "print('end of prgram')\n",
    "\n",
    "\n"
   ]
  }
 ],
 "metadata": {
  "kernelspec": {
   "display_name": "Python 3 (ipykernel)",
   "language": "python",
   "name": "python3"
  },
  "language_info": {
   "codemirror_mode": {
    "name": "ipython",
    "version": 3
   },
   "file_extension": ".py",
   "mimetype": "text/x-python",
   "name": "python",
   "nbconvert_exporter": "python",
   "pygments_lexer": "ipython3",
   "version": "3.9.10"
  }
 },
 "nbformat": 4,
 "nbformat_minor": 5
}
