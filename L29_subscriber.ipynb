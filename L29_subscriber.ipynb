{
 "cells": [
  {
   "cell_type": "code",
   "execution_count": 1,
   "id": "2bd63aab",
   "metadata": {},
   "outputs": [],
   "source": [
    "import paho.mqtt.client as mqtt\n",
    "import time"
   ]
  },
  {
   "cell_type": "code",
   "execution_count": 2,
   "id": "a6b2226d",
   "metadata": {},
   "outputs": [],
   "source": [
    "# callback för on_connect\n",
    "def client_on_connect(client, data, flags, return_code):\n",
    "    if return_code == 1:\n",
    "        print(\"det sprack :(\")\n",
    "    else:\n",
    "        print(\"connected :) hurra!\")\n",
    "        mySubscriber.subscribe(topic=\"yrgo/jagre\", qos=1)\n",
    "    return\n",
    "\n",
    "# callback för on_message\n",
    "def client_on_message(client, data, message):\n",
    "    s = message.payload.decode(\"utf-8\")\n",
    "    print(message.topic)\n",
    "    print(s)\n",
    "    return\n",
    "\n",
    "# callback för disconnect\n",
    "def client_on_disconnect(client, userdata, rc):\n",
    "    print(\"disconnetcted!\")\n",
    "    return\n",
    "    "
   ]
  },
  {
   "cell_type": "code",
   "execution_count": 3,
   "id": "aa8d18b8",
   "metadata": {},
   "outputs": [
    {
     "name": "stdout",
     "output_type": "stream",
     "text": [
      "connected :) hurra!\n",
      "yrgo/jagre\n",
      "Hej elever!0\n",
      "yrgo/jagre\n",
      "Hej elever!0\n",
      "yrgo/jagre\n",
      "Hej elever!0\n",
      "yrgo/jagre\n",
      "Hej elever!0\n",
      "yrgo/jagre\n",
      "Hej elever!0\n",
      "yrgo/jagre\n",
      "Hej elever!0\n",
      "yrgo/jagre\n",
      "Hej elever!0\n",
      "yrgo/jagre\n",
      "Hej elever!0\n",
      "yrgo/jagre\n",
      "Hej elever!0\n",
      "yrgo/jagre\n",
      "Hej elever!0\n",
      "yrgo/jagre\n",
      "Hej elever!1\n",
      "yrgo/jagre\n",
      "Hej elever!2\n",
      "yrgo/jagre\n",
      "Hej elever!3\n",
      "yrgo/jagre\n",
      "Hej elever!4\n",
      "yrgo/jagre\n",
      "Hej elever!5\n",
      "yrgo/jagre\n",
      "Hej elever!6\n",
      "yrgo/jagre\n",
      "Hej elever!7\n",
      "yrgo/jagre\n",
      "Hej elever!8\n",
      "yrgo/jagre\n",
      "Hej elever!9\n"
     ]
    },
    {
     "ename": "KeyboardInterrupt",
     "evalue": "",
     "output_type": "error",
     "traceback": [
      "\u001b[1;31m---------------------------------------------------------------------------\u001b[0m",
      "\u001b[1;31mKeyboardInterrupt\u001b[0m                         Traceback (most recent call last)",
      "\u001b[1;32m~\\AppData\\Local\\Temp\\ipykernel_13152\\2817685145.py\u001b[0m in \u001b[0;36m<module>\u001b[1;34m\u001b[0m\n\u001b[0;32m      8\u001b[0m \u001b[1;33m\u001b[0m\u001b[0m\n\u001b[0;32m      9\u001b[0m \u001b[1;32mwhile\u001b[0m \u001b[1;32mTrue\u001b[0m\u001b[1;33m:\u001b[0m\u001b[1;33m\u001b[0m\u001b[1;33m\u001b[0m\u001b[0m\n\u001b[1;32m---> 10\u001b[1;33m     \u001b[0mtime\u001b[0m\u001b[1;33m.\u001b[0m\u001b[0msleep\u001b[0m\u001b[1;33m(\u001b[0m\u001b[1;36m1\u001b[0m\u001b[1;33m)\u001b[0m\u001b[1;33m\u001b[0m\u001b[1;33m\u001b[0m\u001b[0m\n\u001b[0m",
      "\u001b[1;31mKeyboardInterrupt\u001b[0m: "
     ]
    }
   ],
   "source": [
    "mySubscriber = mqtt.Client()\n",
    "mySubscriber.on_connect = client_on_connect\n",
    "mySubscriber.on_message = client_on_message\n",
    "mySubscriber.on_disconnect = client_on_disconnect\n",
    "\n",
    "mySubscriber.connect(host=\"broker.hivemq.com\", port=1883)\n",
    "mySubscriber.loop_start()\n",
    "\n",
    "while True:\n",
    "    time.sleep(1)\n"
   ]
  }
 ],
 "metadata": {
  "kernelspec": {
   "display_name": "Python 3 (ipykernel)",
   "language": "python",
   "name": "python3"
  },
  "language_info": {
   "codemirror_mode": {
    "name": "ipython",
    "version": 3
   },
   "file_extension": ".py",
   "mimetype": "text/x-python",
   "name": "python",
   "nbconvert_exporter": "python",
   "pygments_lexer": "ipython3",
   "version": "3.9.10"
  }
 },
 "nbformat": 4,
 "nbformat_minor": 5
}
