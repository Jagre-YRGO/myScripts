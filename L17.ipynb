{
 "cells": [
  {
   "cell_type": "code",
   "execution_count": 11,
   "id": "3bf8e34b",
   "metadata": {},
   "outputs": [
    {
     "name": "stdout",
     "output_type": "stream",
     "text": [
      "Ange resistorvärden: 300 300 300\n",
      "[300, 300, 300]\n",
      "Seriell ersättnignsresistans: 900\n",
      "Parallell ersättnignsresistans: 100.0\n"
     ]
    }
   ],
   "source": [
    "def calcualteSerialResistance(inputList):\n",
    "    returnValue = 0\n",
    "    for i in inputList:\n",
    "        returnValue += i\n",
    "    return returnValue\n",
    "    \n",
    "def calcualteParallellResistance(inputList):\n",
    "    returnValue = 0\n",
    "    for i in inputList:\n",
    "        returnValue += 1/i\n",
    "    return 1/returnValue\n",
    "\n",
    "rawArgs = input('Ange resistorvärden: ')\n",
    "argList = rawArgs.split()\n",
    "#Python Ninja version av loopen\n",
    "#castadLista = [int(x) for x in argList]\n",
    "castadLista = []\n",
    "for i in argList:\n",
    "    castadLista.append(int(i))\n",
    "print(castadLista)\n",
    "\n",
    "print(f'Seriell ersättnignsresistans: {calcualteSerialResistance(castadLista)}')\n",
    "print(f'Parallell ersättnignsresistans: {calcualteParallellResistance(castadLista)}')"
   ]
  },
  {
   "cell_type": "code",
   "execution_count": null,
   "id": "bae6b106",
   "metadata": {},
   "outputs": [],
   "source": []
  }
 ],
 "metadata": {
  "kernelspec": {
   "display_name": "Python 3 (ipykernel)",
   "language": "python",
   "name": "python3"
  },
  "language_info": {
   "codemirror_mode": {
    "name": "ipython",
    "version": 3
   },
   "file_extension": ".py",
   "mimetype": "text/x-python",
   "name": "python",
   "nbconvert_exporter": "python",
   "pygments_lexer": "ipython3",
   "version": "3.9.10"
  }
 },
 "nbformat": 4,
 "nbformat_minor": 5
}
