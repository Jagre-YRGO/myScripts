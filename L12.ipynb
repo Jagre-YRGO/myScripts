{
 "cells": [
  {
   "cell_type": "code",
   "execution_count": null,
   "id": "728e06ba",
   "metadata": {},
   "outputs": [],
   "source": [
    "exempelString = \"Detta är en bokstav 'D'\"\n",
    "print(exempelString)"
   ]
  },
  {
   "cell_type": "code",
   "execution_count": null,
   "id": "fbf1e70d",
   "metadata": {},
   "outputs": [],
   "source": [
    "exempelString[-5:]"
   ]
  },
  {
   "cell_type": "code",
   "execution_count": null,
   "id": "1dd3bf35",
   "metadata": {},
   "outputs": [],
   "source": [
    "exempelString.find('bokstav')"
   ]
  },
  {
   "cell_type": "code",
   "execution_count": null,
   "id": "3db387e6",
   "metadata": {},
   "outputs": [],
   "source": [
    "exempelString.upper().count('T')"
   ]
  },
  {
   "cell_type": "code",
   "execution_count": null,
   "id": "2aa8e212",
   "metadata": {},
   "outputs": [],
   "source": [
    "exempelString.replace('är','ar')"
   ]
  },
  {
   "cell_type": "code",
   "execution_count": null,
   "id": "e7751d54",
   "metadata": {},
   "outputs": [],
   "source": [
    "print(exempelString)"
   ]
  },
  {
   "cell_type": "code",
   "execution_count": null,
   "id": "748d4950",
   "metadata": {},
   "outputs": [],
   "source": [
    "exempelString.split('en')"
   ]
  },
  {
   "cell_type": "code",
   "execution_count": null,
   "id": "d33c20c6",
   "metadata": {},
   "outputs": [],
   "source": [
    "pNummer = input('Ge mig din födelsedag \"yy-mm-dd\":')"
   ]
  },
  {
   "cell_type": "code",
   "execution_count": null,
   "id": "5260e4e1",
   "metadata": {},
   "outputs": [],
   "source": [
    "year, month, day = pNummer.split('-')\n",
    "print(f'year: {year}\\nmonth: {month}\\nday: {day}')"
   ]
  },
  {
   "cell_type": "code",
   "execution_count": null,
   "id": "be0592b2",
   "metadata": {},
   "outputs": [],
   "source": [
    "exempelString"
   ]
  },
  {
   "cell_type": "code",
   "execution_count": null,
   "id": "d8512167",
   "metadata": {},
   "outputs": [],
   "source": [
    "import os\n",
    "print(os.getcwd())"
   ]
  },
  {
   "cell_type": "code",
   "execution_count": null,
   "id": "6af98f6c",
   "metadata": {},
   "outputs": [],
   "source": [
    "f = open('emails.txt')\n",
    "email1 = f.readline()\n",
    "email2 = f.readline()\n",
    "print(email1 + ' ' + email2)"
   ]
  },
  {
   "cell_type": "code",
   "execution_count": null,
   "id": "bf302148",
   "metadata": {},
   "outputs": [],
   "source": [
    "nymail1 = email1.replace('.se','.nu')\n",
    "nymail1 = nymail1.replace('....\\n','')\n",
    "\n",
    "if nymail1.find('educ.goteborg') != -1:\n",
    "    print('Is a school adress')\n",
    "\n",
    "userName = nymail1.split('@')[0]\n",
    "    \n",
    "userName"
   ]
  },
  {
   "cell_type": "code",
   "execution_count": null,
   "id": "6719c5ec",
   "metadata": {},
   "outputs": [],
   "source": [
    "listan = nymail1.split('@')[0]"
   ]
  },
  {
   "cell_type": "code",
   "execution_count": null,
   "id": "b2a50114",
   "metadata": {},
   "outputs": [],
   "source": [
    "listan = [9,6,0,2]\n",
    "print(listan[0])\n",
    "print(listan[1:3])\n",
    "print(listan[1:])\n",
    "print(listan[:2])\n",
    "print(listan[-2:-1])"
   ]
  },
  {
   "cell_type": "code",
   "execution_count": null,
   "id": "02f4976a",
   "metadata": {},
   "outputs": [],
   "source": [
    "nyAbcLista = ['a',listan,5+3j,'d','erik',123]\n",
    "print(nyAbcLista)\n",
    "print(nyAbcLista[1][-1])"
   ]
  },
  {
   "cell_type": "code",
   "execution_count": null,
   "id": "a47ea832",
   "metadata": {},
   "outputs": [],
   "source": [
    "print(len(nyAbcLista))\n",
    "nyAbcLista.append(True)\n",
    "print(len(nyAbcLista))\n",
    "print(nyAbcLista)"
   ]
  },
  {
   "cell_type": "code",
   "execution_count": null,
   "id": "a38c6af9",
   "metadata": {},
   "outputs": [],
   "source": [
    "print(len(nyAbcLista))\n",
    "print(nyAbcLista.pop())\n",
    "print(len(nyAbcLista))"
   ]
  },
  {
   "cell_type": "code",
   "execution_count": null,
   "id": "4ed985fc",
   "metadata": {},
   "outputs": [],
   "source": [
    "nyAbcLista.remove(5+3j)\n",
    "print(nyAbcLista)"
   ]
  },
  {
   "cell_type": "code",
   "execution_count": null,
   "id": "def6aa33",
   "metadata": {},
   "outputs": [],
   "source": [
    "del(nyAbcLista[0])"
   ]
  },
  {
   "cell_type": "code",
   "execution_count": null,
   "id": "4ed59988",
   "metadata": {},
   "outputs": [],
   "source": [
    "nyLista = [1,2,3,4]\n",
    "del(nyLista[1])\n",
    "print(nyLista)"
   ]
  },
  {
   "cell_type": "code",
   "execution_count": null,
   "id": "d47e6ed6",
   "metadata": {},
   "outputs": [],
   "source": [
    "nyTomLista = []"
   ]
  }
 ],
 "metadata": {
  "kernelspec": {
   "display_name": "Python 3 (ipykernel)",
   "language": "python",
   "name": "python3"
  },
  "language_info": {
   "codemirror_mode": {
    "name": "ipython",
    "version": 3
   },
   "file_extension": ".py",
   "mimetype": "text/x-python",
   "name": "python",
   "nbconvert_exporter": "python",
   "pygments_lexer": "ipython3",
   "version": "3.9.10"
  }
 },
 "nbformat": 4,
 "nbformat_minor": 5
}
