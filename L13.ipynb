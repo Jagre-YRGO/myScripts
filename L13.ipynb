{
 "cells": [
  {
   "cell_type": "code",
   "execution_count": 2,
   "id": "a60288cc",
   "metadata": {},
   "outputs": [],
   "source": [
    "twoDim = [[1,2,3],[4,5,6],[7,8,9]]"
   ]
  },
  {
   "cell_type": "code",
   "execution_count": 6,
   "id": "d7882c5c",
   "metadata": {},
   "outputs": [
    {
     "data": {
      "text/plain": [
       "5"
      ]
     },
     "execution_count": 6,
     "metadata": {},
     "output_type": "execute_result"
    }
   ],
   "source": [
    "twoDim[1][1]"
   ]
  },
  {
   "cell_type": "code",
   "execution_count": 10,
   "id": "4272873c",
   "metadata": {},
   "outputs": [
    {
     "name": "stdout",
     "output_type": "stream",
     "text": [
      "1\n",
      "2\n",
      "3\n",
      "4\n",
      "5\n",
      "6\n",
      "7\n",
      "8\n",
      "9\n"
     ]
    }
   ],
   "source": [
    "for i in twoDim:\n",
    "    for k in i:\n",
    "        print(k)"
   ]
  },
  {
   "cell_type": "code",
   "execution_count": 12,
   "id": "8addb9cd",
   "metadata": {},
   "outputs": [],
   "source": [
    "minaNamn = 'Erik Alf Lauri Jagre'"
   ]
  },
  {
   "cell_type": "code",
   "execution_count": 24,
   "id": "2a6473cd",
   "metadata": {},
   "outputs": [
    {
     "name": "stdout",
     "output_type": "stream",
     "text": [
      "Erik Alf Lauri Jagre"
     ]
    }
   ],
   "source": [
    "for i in minaNamn:\n",
    "    print(i,end='')"
   ]
  },
  {
   "cell_type": "code",
   "execution_count": 26,
   "id": "d234bea6",
   "metadata": {},
   "outputs": [
    {
     "name": "stdout",
     "output_type": "stream",
     "text": [
      "C:\\WinPython\\extract\\WPy64-39100\\notebooks\\docs\n"
     ]
    }
   ],
   "source": [
    "import os\n",
    "print(os.getcwd())"
   ]
  },
  {
   "cell_type": "code",
   "execution_count": 29,
   "id": "c524e113",
   "metadata": {},
   "outputs": [
    {
     "name": "stdout",
     "output_type": "stream",
     "text": [
      "salesLista : ['månad\\tnetto\\n', 'Januari\\t150\\n', 'Februari\\t300\\n', 'Mars\\t175\\n', 'april\\t25\\n', 'maj\\t0\\n', 'juni\\t600\\n', 'juli\\t500\\n', 'augusti\\t325\\n', 'september\\t3\\n', 'oktober\\t65\\n', 'november\\t123\\n', 'december\\t425']\n"
     ]
    }
   ],
   "source": [
    "f = open('sales.txt')\n",
    "\n",
    "salesLista = []\n",
    "\n",
    "for line in f:\n",
    "    #print(line)\n",
    "    salesLista.append(line)\n",
    "\n",
    "print(f'salesLista : {salesLista}')\n",
    "f.close()"
   ]
  },
  {
   "cell_type": "code",
   "execution_count": 31,
   "id": "97a27566",
   "metadata": {},
   "outputs": [
    {
     "name": "stdout",
     "output_type": "stream",
     "text": [
      "salesLista : ['månad\\tnetto\\n', 'Januari\\t150\\n', 'Februari\\t300\\n', 'Mars\\t175\\n', 'april\\t25\\n', 'maj\\t0\\n', 'juni\\t600\\n', 'juli\\t500\\n', 'augusti\\t325\\n', 'september\\t3\\n', 'oktober\\t65\\n', 'november\\t123\\n', 'december\\t425']\n"
     ]
    }
   ],
   "source": [
    "with open('sales.txt') as f:\n",
    "    salesLista = []\n",
    "\n",
    "    for line in f:\n",
    "        #print(line)\n",
    "        salesLista.append(line)\n",
    "\n",
    "    \n",
    "    print(f'salesLista : {salesLista}')\n",
    "\n"
   ]
  },
  {
   "cell_type": "code",
   "execution_count": 40,
   "id": "2ffaee83",
   "metadata": {},
   "outputs": [
    {
     "name": "stdout",
     "output_type": "stream",
     "text": [
      "[100, 90, 80, 70, 60, 50, 40, 30, 20, 10, 0]\n"
     ]
    }
   ],
   "source": [
    "uddaNummer = list(range(100,-1,-10))\n",
    "print(uddaNummer)"
   ]
  },
  {
   "cell_type": "code",
   "execution_count": 50,
   "id": "148d8d13",
   "metadata": {},
   "outputs": [
    {
     "name": "stdout",
     "output_type": "stream",
     "text": [
      "Erik Alf Lauri Jagre\n"
     ]
    },
    {
     "data": {
      "text/plain": [
       "'Ei l ar ar'"
      ]
     },
     "execution_count": 50,
     "metadata": {},
     "output_type": "execute_result"
    }
   ],
   "source": [
    "print(minaNamn)\n",
    "minaNamn[::2]"
   ]
  },
  {
   "cell_type": "code",
   "execution_count": 55,
   "id": "99b9bccd",
   "metadata": {},
   "outputs": [
    {
     "name": "stdout",
     "output_type": "stream",
     "text": [
      "1000\n",
      "1005\n",
      "1010\n",
      "1015\n",
      "1020\n",
      "1025\n",
      "1030\n",
      "1035\n",
      "1040\n",
      "1045\n",
      "1050\n"
     ]
    }
   ],
   "source": [
    "for i in range(1000,1051,5):\n",
    "    print(i)"
   ]
  },
  {
   "cell_type": "code",
   "execution_count": 58,
   "id": "ce8bce7e",
   "metadata": {},
   "outputs": [],
   "source": [
    "salesLista[5] = True"
   ]
  },
  {
   "cell_type": "code",
   "execution_count": 65,
   "id": "a715b61c",
   "metadata": {},
   "outputs": [
    {
     "name": "stdout",
     "output_type": "stream",
     "text": [
      "['månad\\tnetto\\n', 'month\\tbrutto', 'Februari\\t300\\n', 'Mars\\t175\\n', 'april\\t25\\n', True, 'juni\\t600\\n', 'juli\\t500\\n', 'augusti\\t325\\n', 'september\\t3\\n', 'oktober\\t65\\n', 'november\\t123\\n', 'december\\t425']\n"
     ]
    }
   ],
   "source": [
    "enAnnanLista = salesLista\n",
    "enAnnanLista[1] = 'month\\tbrutto'\n",
    "print(salesLista)"
   ]
  },
  {
   "cell_type": "code",
   "execution_count": 92,
   "id": "a5a3eac9",
   "metadata": {},
   "outputs": [
    {
     "name": "stdout",
     "output_type": "stream",
     "text": [
      "('månad\\tnetto\\n', 'month\\tbrutto', 'Februari\\t300\\n')\n"
     ]
    }
   ],
   "source": [
    "minTuple = ('månad\\tnetto\\n', 'month\\tbrutto', 'Februari\\t300\\n')\n",
    "print(minTuple)"
   ]
  },
  {
   "cell_type": "code",
   "execution_count": 99,
   "id": "0ad0fa75",
   "metadata": {},
   "outputs": [
    {
     "data": {
      "text/plain": [
       "['Lisa', 'Anna', 'kvinna']"
      ]
     },
     "execution_count": 99,
     "metadata": {},
     "output_type": "execute_result"
    }
   ],
   "source": [
    "person1 = ['Erik',44,'man']\n",
    "person2 = ['Lisa', 8,'kvinna']\n",
    "person2[1] = 'Anna'\n",
    "person2"
   ]
  },
  {
   "cell_type": "code",
   "execution_count": 120,
   "id": "f3c5b073",
   "metadata": {},
   "outputs": [
    {
     "data": {
      "text/plain": [
       "{'namn': 'Erik', 'age': 44, 'isMale': True}"
      ]
     },
     "execution_count": 120,
     "metadata": {},
     "output_type": "execute_result"
    }
   ],
   "source": [
    "person = {'namn':'Erik','age':44,'isMale':True}\n",
    "person"
   ]
  },
  {
   "cell_type": "code",
   "execution_count": 116,
   "id": "2fad2d6b",
   "metadata": {},
   "outputs": [
    {
     "name": "stdout",
     "output_type": "stream",
     "text": [
      "namn: Erik\n",
      "age: 44\n",
      "isMale: True\n"
     ]
    }
   ],
   "source": [
    "print(f\"namn: {person1['namn']}\")\n",
    "print(f\"age: {person1['age']}\")\n",
    "print(f\"isMale: {person1['isMale']}\")\n",
    "\n"
   ]
  },
  {
   "cell_type": "code",
   "execution_count": 118,
   "id": "a8a58ff9",
   "metadata": {},
   "outputs": [
    {
     "data": {
      "text/plain": [
       "'fruktbanan'"
      ]
     },
     "execution_count": 118,
     "metadata": {},
     "output_type": "execute_result"
    }
   ],
   "source": [
    "a = 'frukt'\n",
    "b = 'banan'\n",
    "a + b"
   ]
  },
  {
   "cell_type": "code",
   "execution_count": 121,
   "id": "ff41cf22",
   "metadata": {},
   "outputs": [],
   "source": [
    "#gör så länge som inmatat namn inte är 0\n",
    "    #mata in namn\n",
    "    #mata in ålder\n",
    "    #lagra i en dictionary\n",
    "    #'appenda' dictionary till lista\n",
    "#skriv ut listan med alla Dictionarys"
   ]
  },
  {
   "cell_type": "code",
   "execution_count": 126,
   "id": "f039f36c",
   "metadata": {},
   "outputs": [
    {
     "name": "stdout",
     "output_type": "stream",
     "text": [
      "tell me your name:erik\n",
      "tell me your age:44\n",
      "{'namn': 'erik', 'age': '44'}\n",
      "tell me your name:arne\n",
      "tell me your age:55\n",
      "{'namn': 'arne', 'age': '55'}\n",
      "tell me your name:kalle\n",
      "tell me your age:10\n",
      "{'namn': 'kalle', 'age': '10'}\n",
      "tell me your name:\n",
      "[{'namn': 'erik', 'age': '44'}, {'namn': 'arne', 'age': '55'}, {'namn': 'kalle', 'age': '10'}]\n"
     ]
    }
   ],
   "source": [
    "personLista = []\n",
    "\n",
    "while True:\n",
    "    person = {'namn':'','age':0}\n",
    "    person['namn'] = input('tell me your name:')\n",
    "    if len(person['namn']) <= 1:\n",
    "        break\n",
    "    person['age'] = input('tell me your age:')\n",
    "    print(person)\n",
    "    personLista.append(person)\n",
    "    \n",
    "print(personLista)\n"
   ]
  }
 ],
 "metadata": {
  "kernelspec": {
   "display_name": "Python 3 (ipykernel)",
   "language": "python",
   "name": "python3"
  },
  "language_info": {
   "codemirror_mode": {
    "name": "ipython",
    "version": 3
   },
   "file_extension": ".py",
   "mimetype": "text/x-python",
   "name": "python",
   "nbconvert_exporter": "python",
   "pygments_lexer": "ipython3",
   "version": "3.9.10"
  }
 },
 "nbformat": 4,
 "nbformat_minor": 5
}
