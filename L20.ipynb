{
 "cells": [
  {
   "cell_type": "code",
   "execution_count": 1,
   "id": "4c26f387",
   "metadata": {},
   "outputs": [],
   "source": [
    "matrix = [[11,12,13,14,15],[21,22,23,24,25],[31,32,33,34,35],[41,42,43,44,45],[51,52,53,54,55]]"
   ]
  },
  {
   "cell_type": "code",
   "execution_count": 2,
   "id": "d8f3fc31",
   "metadata": {},
   "outputs": [
    {
     "data": {
      "text/plain": [
       "44"
      ]
     },
     "execution_count": 2,
     "metadata": {},
     "output_type": "execute_result"
    }
   ],
   "source": [
    "matrix[3][3]"
   ]
  },
  {
   "cell_type": "code",
   "execution_count": 3,
   "id": "a0732cd8",
   "metadata": {},
   "outputs": [
    {
     "data": {
      "text/plain": [
       "[21, 22, 23, 24, 25]"
      ]
     },
     "execution_count": 3,
     "metadata": {},
     "output_type": "execute_result"
    }
   ],
   "source": [
    "matrix[1]"
   ]
  },
  {
   "cell_type": "code",
   "execution_count": 4,
   "id": "c7feb939",
   "metadata": {},
   "outputs": [
    {
     "data": {
      "text/plain": [
       "[33, 34]"
      ]
     },
     "execution_count": 4,
     "metadata": {},
     "output_type": "execute_result"
    }
   ],
   "source": [
    "matrix[2][2:4]"
   ]
  },
  {
   "cell_type": "code",
   "execution_count": 9,
   "id": "29f571c0",
   "metadata": {},
   "outputs": [
    {
     "data": {
      "text/plain": [
       "[31, 35]"
      ]
     },
     "execution_count": 9,
     "metadata": {},
     "output_type": "execute_result"
    }
   ],
   "source": [
    "matrix[2][::4]"
   ]
  },
  {
   "cell_type": "code",
   "execution_count": 22,
   "id": "b5b923ff",
   "metadata": {},
   "outputs": [
    {
     "name": "stdout",
     "output_type": "stream",
     "text": [
      "ny kolumn\n",
      "ny kolumn\n",
      "ny kolumn\n",
      "ny kolumn\n",
      "ny kolumn\n",
      "[[11, 21, 31, 41, 51], [12, 22, 32, 42, 52], [13, 23, 33, 43, 53], [14, 24, 34, 44, 54], [15, 25, 35, 45, 55]]\n"
     ]
    }
   ],
   "source": [
    "matrixTransposed = []\n",
    "for i in range(5):\n",
    "    print('ny kolumn')\n",
    "    column = []\n",
    "    for rad in matrix:\n",
    "        column.append(rad[i])\n",
    "    matrixTransposed.append(column)\n",
    "    \n",
    "print(matrixTransposed)\n",
    "    "
   ]
  },
  {
   "cell_type": "code",
   "execution_count": 24,
   "id": "96f0a737",
   "metadata": {},
   "outputs": [
    {
     "name": "stdout",
     "output_type": "stream",
     "text": [
      "22 not found\n",
      "True!\n",
      "22 not found\n",
      "22 not found\n",
      "22 not found\n"
     ]
    }
   ],
   "source": [
    "for column in matrixTransposed:\n",
    "    if 22 in column:\n",
    "        print('True!')\n",
    "    else:\n",
    "        print('22 not found')"
   ]
  }
 ],
 "metadata": {
  "kernelspec": {
   "display_name": "Python 3 (ipykernel)",
   "language": "python",
   "name": "python3"
  },
  "language_info": {
   "codemirror_mode": {
    "name": "ipython",
    "version": 3
   },
   "file_extension": ".py",
   "mimetype": "text/x-python",
   "name": "python",
   "nbconvert_exporter": "python",
   "pygments_lexer": "ipython3",
   "version": "3.9.10"
  }
 },
 "nbformat": 4,
 "nbformat_minor": 5
}
