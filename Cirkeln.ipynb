{
 "cells": [
  {
   "cell_type": "code",
   "execution_count": 1,
   "id": "abb19c64",
   "metadata": {},
   "outputs": [],
   "source": [
    "def calcArea(r):\n",
    "    return 3.14*(r**2)"
   ]
  },
  {
   "cell_type": "code",
   "execution_count": 2,
   "id": "d6b78a3d",
   "metadata": {},
   "outputs": [],
   "source": [
    "def calcOmkrets(r):\n",
    "    return 2*3.14*r"
   ]
  },
  {
   "cell_type": "code",
   "execution_count": 4,
   "id": "3dbc057b",
   "metadata": {},
   "outputs": [
    {
     "name": "stdout",
     "output_type": "stream",
     "text": [
      "Ange radie: 10\n",
      "Area: 314.0\n",
      "Omkrets: 62.800000000000004\n"
     ]
    }
   ],
   "source": [
    "radie = int(input('Ange radie: '))\n",
    "print(f'Area: {calcArea(radie)}')\n",
    "print(f'Omkrets: {calcOmkrets(radie)}')"
   ]
  }
 ],
 "metadata": {
  "kernelspec": {
   "display_name": "Python 3 (ipykernel)",
   "language": "python",
   "name": "python3"
  },
  "language_info": {
   "codemirror_mode": {
    "name": "ipython",
    "version": 3
   },
   "file_extension": ".py",
   "mimetype": "text/x-python",
   "name": "python",
   "nbconvert_exporter": "python",
   "pygments_lexer": "ipython3",
   "version": "3.9.10"
  }
 },
 "nbformat": 4,
 "nbformat_minor": 5
}
